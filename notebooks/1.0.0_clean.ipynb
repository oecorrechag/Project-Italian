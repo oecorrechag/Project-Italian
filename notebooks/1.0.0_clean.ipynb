{
 "cells": [
  {
   "attachments": {},
   "cell_type": "markdown",
   "metadata": {},
   "source": [
    "# 1.0.0 Cleaning data"
   ]
  },
  {
   "cell_type": "code",
   "execution_count": 1,
   "metadata": {},
   "outputs": [],
   "source": [
    "%load_ext autoreload\n",
    "%autoreload 2"
   ]
  },
  {
   "cell_type": "code",
   "execution_count": 2,
   "metadata": {},
   "outputs": [],
   "source": [
    "import pandas as pd\n",
    "import numpy as np\n",
    "import seaborn as sns\n",
    "import datetime as dt\n",
    "import plotly.express as px\n",
    "import matplotlib.pyplot as plt\n",
    "\n",
    "pd.set_option('display.max_columns', None)\n",
    "pd.set_option('display.max_rows', None)\n",
    "import warnings\n",
    "warnings.filterwarnings(\"ignore\")"
   ]
  },
  {
   "cell_type": "code",
   "execution_count": 3,
   "metadata": {},
   "outputs": [],
   "source": [
    "import sys\n",
    "sys.path.append(\"../\") \n",
    "\n",
    "from utils.paths2 import direcciones_cursos\n",
    "\n",
    "G_raw, G_processed, G_interim, G_external, G_models, G_reports, G_reports_figures = direcciones_cursos('italian')"
   ]
  },
  {
   "attachments": {},
   "cell_type": "markdown",
   "metadata": {},
   "source": [
    "# Project Italian\n"
   ]
  },
  {
   "cell_type": "code",
   "execution_count": 4,
   "metadata": {},
   "outputs": [
    {
     "data": {
      "text/html": [
       "<div>\n",
       "<style scoped>\n",
       "    .dataframe tbody tr th:only-of-type {\n",
       "        vertical-align: middle;\n",
       "    }\n",
       "\n",
       "    .dataframe tbody tr th {\n",
       "        vertical-align: top;\n",
       "    }\n",
       "\n",
       "    .dataframe thead th {\n",
       "        text-align: right;\n",
       "    }\n",
       "</style>\n",
       "<table border=\"1\" class=\"dataframe\">\n",
       "  <thead>\n",
       "    <tr style=\"text-align: right;\">\n",
       "      <th></th>\n",
       "      <th>wind_speed</th>\n",
       "      <th>humidity</th>\n",
       "      <th>temperature</th>\n",
       "      <th>holiday</th>\n",
       "      <th>week_day</th>\n",
       "      <th>non_working_day</th>\n",
       "      <th>season</th>\n",
       "      <th>weather</th>\n",
       "      <th>date</th>\n",
       "      <th>year</th>\n",
       "      <th>month</th>\n",
       "      <th>time</th>\n",
       "      <th>total</th>\n",
       "    </tr>\n",
       "  </thead>\n",
       "  <tbody>\n",
       "    <tr>\n",
       "      <th>0</th>\n",
       "      <td>0.0</td>\n",
       "      <td>0.81</td>\n",
       "      <td>0.24</td>\n",
       "      <td>0</td>\n",
       "      <td>6</td>\n",
       "      <td>0</td>\n",
       "      <td>1</td>\n",
       "      <td>1</td>\n",
       "      <td>2011-01-01</td>\n",
       "      <td>0</td>\n",
       "      <td>1</td>\n",
       "      <td>0</td>\n",
       "      <td>18</td>\n",
       "    </tr>\n",
       "    <tr>\n",
       "      <th>1</th>\n",
       "      <td>0.0</td>\n",
       "      <td>0.80</td>\n",
       "      <td>0.22</td>\n",
       "      <td>0</td>\n",
       "      <td>6</td>\n",
       "      <td>0</td>\n",
       "      <td>1</td>\n",
       "      <td>1</td>\n",
       "      <td>2011-01-01</td>\n",
       "      <td>0</td>\n",
       "      <td>1</td>\n",
       "      <td>1</td>\n",
       "      <td>45</td>\n",
       "    </tr>\n",
       "    <tr>\n",
       "      <th>2</th>\n",
       "      <td>0.0</td>\n",
       "      <td>0.80</td>\n",
       "      <td>0.22</td>\n",
       "      <td>0</td>\n",
       "      <td>6</td>\n",
       "      <td>0</td>\n",
       "      <td>1</td>\n",
       "      <td>1</td>\n",
       "      <td>2011-01-01</td>\n",
       "      <td>0</td>\n",
       "      <td>1</td>\n",
       "      <td>2</td>\n",
       "      <td>37</td>\n",
       "    </tr>\n",
       "    <tr>\n",
       "      <th>3</th>\n",
       "      <td>0.0</td>\n",
       "      <td>0.75</td>\n",
       "      <td>0.24</td>\n",
       "      <td>0</td>\n",
       "      <td>6</td>\n",
       "      <td>0</td>\n",
       "      <td>1</td>\n",
       "      <td>1</td>\n",
       "      <td>2011-01-01</td>\n",
       "      <td>0</td>\n",
       "      <td>1</td>\n",
       "      <td>3</td>\n",
       "      <td>18</td>\n",
       "    </tr>\n",
       "    <tr>\n",
       "      <th>4</th>\n",
       "      <td>0.0</td>\n",
       "      <td>0.75</td>\n",
       "      <td>0.24</td>\n",
       "      <td>0</td>\n",
       "      <td>6</td>\n",
       "      <td>0</td>\n",
       "      <td>1</td>\n",
       "      <td>1</td>\n",
       "      <td>2011-01-01</td>\n",
       "      <td>0</td>\n",
       "      <td>1</td>\n",
       "      <td>4</td>\n",
       "      <td>5</td>\n",
       "    </tr>\n",
       "  </tbody>\n",
       "</table>\n",
       "</div>"
      ],
      "text/plain": [
       "   wind_speed  humidity  temperature holiday week_day non_working_day season  \\\n",
       "0         0.0      0.81         0.24       0        6               0      1   \n",
       "1         0.0      0.80         0.22       0        6               0      1   \n",
       "2         0.0      0.80         0.22       0        6               0      1   \n",
       "3         0.0      0.75         0.24       0        6               0      1   \n",
       "4         0.0      0.75         0.24       0        6               0      1   \n",
       "\n",
       "  weather       date year month time  total  \n",
       "0       1 2011-01-01    0     1    0     18  \n",
       "1       1 2011-01-01    0     1    1     45  \n",
       "2       1 2011-01-01    0     1    2     37  \n",
       "3       1 2011-01-01    0     1    3     18  \n",
       "4       1 2011-01-01    0     1    4      5  "
      ]
     },
     "execution_count": 4,
     "metadata": {},
     "output_type": "execute_result"
    }
   ],
   "source": [
    "df = pd.read_csv(G_raw/'byke_train.csv', encoding='latin-1')\n",
    "\n",
    "df.columns = df.columns.str.normalize('NFKD').str.encode('ascii', errors='ignore').str.decode('utf-8')\n",
    "df.columns = map(str.lower, df.columns)\n",
    "df.columns = df.columns.str.strip()\n",
    "df.columns = df.columns.str.replace(' ', '_')\n",
    "\n",
    "df.rename(columns={'velocidadviento':'wind_speed', \n",
    "                   'humedad':'humidity',\n",
    "                   'temperatura':'temperature',\n",
    "                   'diafestivo':'holiday',\n",
    "                   'diasemana':'week_day',\n",
    "                   'dianolaborable':'non_working_day',\n",
    "                   'estacion':'season',\n",
    "                   'clima':'weather',\n",
    "                   'fecha':'date',\n",
    "                   'ano':'year',\n",
    "                   'mes':'month',\n",
    "                   'hora':'time',\n",
    "                   'total':'total',\n",
    "                   }, inplace=True)\n",
    "\n",
    "df['holiday'] = df['holiday'].astype(str)\n",
    "df['week_day'] = df['week_day'].astype(str)\n",
    "df['non_working_day'] = df['non_working_day'].astype(str)\n",
    "df['season'] = df['season'].astype(str)\n",
    "df['weather'] = df['weather'].astype(str)\n",
    "df['year'] = df['year'].astype(str)\n",
    "df['month'] = df['month'].astype(str)\n",
    "df['time'] = df['time'].astype(str)\n",
    "\n",
    "df['date'] =  pd.to_datetime(df['date'])\n",
    "\n",
    "df.head()"
   ]
  },
  {
   "cell_type": "code",
   "execution_count": 5,
   "metadata": {},
   "outputs": [
    {
     "name": "stdout",
     "output_type": "stream",
     "text": [
      "<class 'pandas.core.frame.DataFrame'>\n",
      "RangeIndex: 13905 entries, 0 to 13904\n",
      "Data columns (total 13 columns):\n",
      " #   Column           Non-Null Count  Dtype         \n",
      "---  ------           --------------  -----         \n",
      " 0   wind_speed       13905 non-null  float64       \n",
      " 1   humidity         13905 non-null  float64       \n",
      " 2   temperature      13905 non-null  float64       \n",
      " 3   holiday          13905 non-null  object        \n",
      " 4   week_day         13905 non-null  object        \n",
      " 5   non_working_day  13905 non-null  object        \n",
      " 6   season           13905 non-null  object        \n",
      " 7   weather          13905 non-null  object        \n",
      " 8   date             13905 non-null  datetime64[ns]\n",
      " 9   year             13905 non-null  object        \n",
      " 10  month            13905 non-null  object        \n",
      " 11  time             13905 non-null  object        \n",
      " 12  total            13905 non-null  int64         \n",
      "dtypes: datetime64[ns](1), float64(3), int64(1), object(8)\n",
      "memory usage: 1.4+ MB\n"
     ]
    }
   ],
   "source": [
    "df.info()"
   ]
  },
  {
   "cell_type": "code",
   "execution_count": 6,
   "metadata": {},
   "outputs": [],
   "source": [
    "# save\n",
    "df.to_csv(G_processed/'df.csv', encoding = 'utf-8-sig', index = False)\n",
    "df.to_parquet(G_processed/'df.parquet.gzip', compression='gzip')"
   ]
  },
  {
   "cell_type": "code",
   "execution_count": 7,
   "metadata": {},
   "outputs": [
    {
     "name": "stdout",
     "output_type": "stream",
     "text": [
      "ok_\n"
     ]
    }
   ],
   "source": [
    "print('ok_')"
   ]
  }
 ],
 "metadata": {
  "kernelspec": {
   "display_name": "Python 3",
   "language": "python",
   "name": "python3"
  },
  "language_info": {
   "codemirror_mode": {
    "name": "ipython",
    "version": 3
   },
   "file_extension": ".py",
   "mimetype": "text/x-python",
   "name": "python",
   "nbconvert_exporter": "python",
   "pygments_lexer": "ipython3",
   "version": "3.11.0"
  },
  "orig_nbformat": 4,
  "vscode": {
   "interpreter": {
    "hash": "5238573367df39f7286bb46f9ff5f08f63a01a80960060ce41e3c79b190280fa"
   }
  }
 },
 "nbformat": 4,
 "nbformat_minor": 2
}
